{
 "cells": [
  {
   "cell_type": "code",
   "execution_count": 1,
   "metadata": {},
   "outputs": [],
   "source": [
    "import matplotlib.pyplot as plt\n",
    "import numpy as np\n",
    "\n",
    "%matplotlib widget\n",
    "\n",
    "from DiffusionParticles import DiffusionParticles\n",
    "\n",
    "# Parámetros de la simulación\n",
    "M, N = 50, 50  # Tamaño del grid\n",
    "T = 100        # Tiempo total de simulación\n",
    "K = 0.5        # Parámetro de velocidad de difusión\n",
    "P = 100         # Número de partículase\n",
    "r = 26        # Altura de la región bloqueada\n",
    "s = 26         # Ancho de la región bloqueada\n",
    "mask = np.ones((M, N))\n",
    "Nexp = 100       # Número de experimentos\n"
   ]
  },
  {
   "cell_type": "markdown",
   "metadata": {},
   "source": [
    "### Distribución completa"
   ]
  },
  {
   "cell_type": "code",
   "execution_count": null,
   "metadata": {},
   "outputs": [],
   "source": [
    "initial_distribution = np.ones((M, N)) / (M * N)\n",
    "\n",
    "model = DiffusionParticles(M,N,T,K,r,s,initial_distribution, Nexp, P)\n",
    "densities = model.simulate_diffusion()\n",
    "ani = model.animate_simulation(densities)\n",
    "\n",
    "ani.save('./animations/inciso_2/diffusion_simulation.mp4', writer='ffmpeg', fps=10)\n",
    "plt.show()"
   ]
  },
  {
   "cell_type": "markdown",
   "metadata": {},
   "source": [
    "### Distribución en forma de cruz"
   ]
  },
  {
   "cell_type": "code",
   "execution_count": null,
   "metadata": {},
   "outputs": [],
   "source": [
    "initial_distribution = np.zeros((M, N))\n",
    "center = (M // 2, N // 2)\n",
    "line_width = 5\n",
    "initial_distribution[center[0] - line_width // 2 : center[0] + line_width // 2, :] = 1.0\n",
    "initial_distribution[:, center[1] - line_width // 2 : center[1] + line_width // 2] = 1.0\n",
    "initial_distribution /= np.sum(initial_distribution)\n",
    "\n",
    "model = DiffusionParticles(M,N,T,K,r,s,initial_distribution, Nexp, P)\n",
    "densities = model.simulate_diffusion()\n",
    "ani = model.animate_simulation(densities)\n",
    "\n",
    "ani.save('./animations/inciso_2/diffusion_simulation.mp4', writer='ffmpeg', fps=10)\n",
    "plt.show()"
   ]
  },
  {
   "cell_type": "markdown",
   "metadata": {},
   "source": [
    "### Distribución espiral"
   ]
  },
  {
   "cell_type": "code",
   "execution_count": 3,
   "metadata": {},
   "outputs": [],
   "source": [
    "initial_distribution = np.zeros((M, N))\n",
    "center = (M // 2, N // 2)\n",
    "num_spirals = 10\n",
    "for i in range(M):\n",
    "    for j in range(N):\n",
    "        distance = np.sqrt((i - center[0])**2 + (j - center[1])**2)\n",
    "        angle = np.arctan2(j - center[1], i - center[0])\n",
    "        if int(distance) % num_spirals == 0:\n",
    "            initial_distribution[i, j] = 1.0\n",
    "initial_distribution /= np.sum(initial_distribution)\n",
    "\n",
    "model = DiffusionParticles(M,N,T,K,r,s,initial_distribution, Nexp, P)\n",
    "densities = model.simulate_diffusion()\n",
    "ani = model.animate_simulation(densities)\n",
    "\n",
    "ani.save('./animations/inciso_2/diffusion_simulation.mp4', writer='ffmpeg', fps=10)\n",
    "plt.show()"
   ]
  }
 ],
 "metadata": {
  "kernelspec": {
   "display_name": "Python 3",
   "language": "python",
   "name": "python3"
  },
  "language_info": {
   "codemirror_mode": {
    "name": "ipython",
    "version": 3
   },
   "file_extension": ".py",
   "mimetype": "text/x-python",
   "name": "python",
   "nbconvert_exporter": "python",
   "pygments_lexer": "ipython3",
   "version": "3.11.7"
  }
 },
 "nbformat": 4,
 "nbformat_minor": 2
}
